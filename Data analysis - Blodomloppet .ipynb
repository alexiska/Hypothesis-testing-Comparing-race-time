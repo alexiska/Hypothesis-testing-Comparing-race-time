{
 "cells": [
  {
   "cell_type": "markdown",
   "metadata": {},
   "source": [
    "# Hypothesis testing: Blodomloppet 2011 and 2012 (Swedish running race)\n",
    "\n",
    "Data from the race Blodomloppet 2011 and 2012 have been analysed and hypothesis tests have been performed between the years and groups. \n",
    "Three hypothesis tests are performed with T-test for the means of two independent samples between following groups:  \n",
    "1.    Men 5km 2011 vs Men 5km 2012\n",
    "2.    Women 5km 2011 vs Women 5km 2012\n",
    "3.    Women 5km 2011 vs Men 5km 2011\n",
    "\n",
    "The null hypothesis is that the averge time are equal and alternative hypothesis is that they are not equal.\n",
    "\n",
    "\n",
    "\n",
    "\n",
    "### Table of contents:\n",
    "* Exploratory Data Analysis (EDA)\n",
    "* Data cleaning and manipulation\n",
    "* Hypothesis \n",
    "* Conclusion\n",
    "\n",
    "<B>NOTE</B> The formulas in jupyter notebook does not work in Github for some reason. In order to view the whole notebook properly, please paste my repo page in https://nbviewer.jupyter.org/ \n"
   ]
  },
  {
   "cell_type": "code",
   "execution_count": 1,
   "metadata": {},
   "outputs": [
    {
     "name": "stderr",
     "output_type": "stream",
     "text": [
      "C:\\Users\\orkab\\AppData\\Local\\Continuum\\anaconda3\\lib\\site-packages\\statsmodels\\tools\\_testing.py:19: FutureWarning: pandas.util.testing is deprecated. Use the functions in the public API at pandas.testing instead.\n",
      "  import pandas.util.testing as tm\n"
     ]
    }
   ],
   "source": [
    "import pandas as pd\n",
    "import scipy.stats as stats\n",
    "import math\n",
    "import numpy as np\n",
    "import seaborn as sns\n",
    "import matplotlib.pyplot as plt\n",
    "\n",
    "df_women_10km_2011 = pd.read_csv('women_10km_2011.csv')\n",
    "df_men_10km_2011 = pd.read_csv('men_10km_2011.csv')\n",
    "df_women_5km_2011 = pd.read_csv('women_5km_2011.csv')\n",
    "df_men_5km_2011 = pd.read_csv('men_5km_2011.csv')\n",
    "\n",
    "df_women_10km_2012 = pd.read_csv('women_10km_2012.csv')\n",
    "df_men_10km_2012 = pd.read_csv('men_10km_2012.csv')\n",
    "df_women_5km_2012 = pd.read_csv('women_5km_2012.csv')\n",
    "df_men_5km_2012 = pd.read_csv('men_5km_2012.csv')"
   ]
  },
  {
   "cell_type": "code",
   "execution_count": 2,
   "metadata": {},
   "outputs": [
    {
     "name": "stdout",
     "output_type": "stream",
     "text": [
      "<class 'pandas.core.frame.DataFrame'>\n",
      "RangeIndex: 374 entries, 0 to 373\n",
      "Data columns (total 5 columns):\n",
      " #   Column  Non-Null Count  Dtype  \n",
      "---  ------  --------------  -----  \n",
      " 0   Pos     374 non-null    int64  \n",
      " 1   Name    374 non-null    object \n",
      " 2   Born    189 non-null    float64\n",
      " 3   Club    357 non-null    object \n",
      " 4   Time    374 non-null    object \n",
      "dtypes: float64(1), int64(1), object(3)\n",
      "memory usage: 14.7+ KB\n"
     ]
    }
   ],
   "source": [
    "df_women_10km_2011.info()"
   ]
  },
  {
   "cell_type": "code",
   "execution_count": 3,
   "metadata": {},
   "outputs": [
    {
     "data": {
      "text/html": [
       "<div>\n",
       "<style scoped>\n",
       "    .dataframe tbody tr th:only-of-type {\n",
       "        vertical-align: middle;\n",
       "    }\n",
       "\n",
       "    .dataframe tbody tr th {\n",
       "        vertical-align: top;\n",
       "    }\n",
       "\n",
       "    .dataframe thead th {\n",
       "        text-align: right;\n",
       "    }\n",
       "</style>\n",
       "<table border=\"1\" class=\"dataframe\">\n",
       "  <thead>\n",
       "    <tr style=\"text-align: right;\">\n",
       "      <th></th>\n",
       "      <th>Pos</th>\n",
       "      <th>Name</th>\n",
       "      <th>Born</th>\n",
       "      <th>Club</th>\n",
       "      <th>Time</th>\n",
       "    </tr>\n",
       "  </thead>\n",
       "  <tbody>\n",
       "    <tr>\n",
       "      <th>369</th>\n",
       "      <td>370</td>\n",
       "      <td>Ulla  Österberg</td>\n",
       "      <td>NaN</td>\n",
       "      <td>Schneider Electric 1</td>\n",
       "      <td>1:14:49</td>\n",
       "    </tr>\n",
       "    <tr>\n",
       "      <th>370</th>\n",
       "      <td>371</td>\n",
       "      <td>Petra  Sjöberg</td>\n",
       "      <td>NaN</td>\n",
       "      <td>Arboga Girls</td>\n",
       "      <td>1:14:58</td>\n",
       "    </tr>\n",
       "    <tr>\n",
       "      <th>371</th>\n",
       "      <td>372</td>\n",
       "      <td>Caroline  Dieker</td>\n",
       "      <td>NaN</td>\n",
       "      <td>VAP 10</td>\n",
       "      <td>1:15:00</td>\n",
       "    </tr>\n",
       "    <tr>\n",
       "      <th>372</th>\n",
       "      <td>373</td>\n",
       "      <td>Maria  Grankvist</td>\n",
       "      <td>NaN</td>\n",
       "      <td>Arboga Girls</td>\n",
       "      <td>1:15:08</td>\n",
       "    </tr>\n",
       "    <tr>\n",
       "      <th>373</th>\n",
       "      <td>374</td>\n",
       "      <td>Emma  Delin</td>\n",
       "      <td>NaN</td>\n",
       "      <td>stor stark</td>\n",
       "      <td>1:22:54</td>\n",
       "    </tr>\n",
       "  </tbody>\n",
       "</table>\n",
       "</div>"
      ],
      "text/plain": [
       "     Pos              Name  Born                  Club     Time\n",
       "369  370   Ulla  Österberg   NaN  Schneider Electric 1  1:14:49\n",
       "370  371    Petra  Sjöberg   NaN          Arboga Girls  1:14:58\n",
       "371  372  Caroline  Dieker   NaN                VAP 10  1:15:00\n",
       "372  373  Maria  Grankvist   NaN          Arboga Girls  1:15:08\n",
       "373  374       Emma  Delin   NaN            stor stark  1:22:54"
      ]
     },
     "execution_count": 3,
     "metadata": {},
     "output_type": "execute_result"
    }
   ],
   "source": [
    "# Check the dataframe structure \n",
    "df_women_10km_2011.tail()"
   ]
  },
  {
   "cell_type": "code",
   "execution_count": 4,
   "metadata": {
    "scrolled": true
   },
   "outputs": [],
   "source": [
    "# disable chained assignments\n",
    "pd.options.mode.chained_assignment = None \n",
    "\n",
    "def time_format(df):\n",
    "    \"\"\"\n",
    "    Format the time to hh:mm:ss\n",
    "    If h:mm:ss then add \"0\" in hour position\n",
    "    If mm:ss then add \"00\" in hour position\n",
    "    \n",
    "    Input: Dataframe\"\n",
    "    Output: Series with new time format\n",
    "\n",
    "    \"\"\"\n",
    "\n",
    "    # Update the time format h:mm:ss to hh:mm:ss\n",
    "    temp = \"0\"+df[df['Time'].str.len()!=5]['Time']\n",
    "    df['Time'].loc[temp.index]=temp\n",
    "\n",
    "    # Update the time format mm:ss to hh:mm:ss\n",
    "    temp = \"00:\"+df[df['Time'].str.len()==5]['Time']\n",
    "    df['Time'].loc[temp.index]=temp\n",
    "    \n",
    "  \n",
    "    return df['Time']\n",
    "\n",
    "\n",
    "df_women_10km_2011['Time'] = time_format(df_women_10km_2011)\n",
    "df_women_5km_2011['Time'] = time_format(df_women_5km_2011)\n",
    "df_men_10km_2011['Time'] = time_format(df_men_10km_2011)\n",
    "df_men_5km_2011['Time'] = time_format(df_men_5km_2011)\n",
    "df_women_10km_2012['Time'] = time_format(df_women_10km_2012)\n",
    "df_women_5km_2012['Time'] = time_format(df_women_5km_2012)\n",
    "df_men_10km_2012['Time'] = time_format(df_men_10km_2012)\n",
    "df_men_5km_2012['Time'] = time_format(df_men_5km_2012)"
   ]
  },
  {
   "cell_type": "code",
   "execution_count": 5,
   "metadata": {},
   "outputs": [
    {
     "data": {
      "text/html": [
       "<div>\n",
       "<style scoped>\n",
       "    .dataframe tbody tr th:only-of-type {\n",
       "        vertical-align: middle;\n",
       "    }\n",
       "\n",
       "    .dataframe tbody tr th {\n",
       "        vertical-align: top;\n",
       "    }\n",
       "\n",
       "    .dataframe thead th {\n",
       "        text-align: right;\n",
       "    }\n",
       "</style>\n",
       "<table border=\"1\" class=\"dataframe\">\n",
       "  <thead>\n",
       "    <tr style=\"text-align: right;\">\n",
       "      <th></th>\n",
       "      <th>Pos</th>\n",
       "      <th>Name</th>\n",
       "      <th>Born</th>\n",
       "      <th>Club</th>\n",
       "      <th>Time</th>\n",
       "    </tr>\n",
       "  </thead>\n",
       "  <tbody>\n",
       "    <tr>\n",
       "      <th>0</th>\n",
       "      <td>1</td>\n",
       "      <td>Johanna  Eriksson</td>\n",
       "      <td>NaN</td>\n",
       "      <td>Motala AIF</td>\n",
       "      <td>00:37:57</td>\n",
       "    </tr>\n",
       "    <tr>\n",
       "      <th>1</th>\n",
       "      <td>2</td>\n",
       "      <td>Elin  Winblad</td>\n",
       "      <td>1987.0</td>\n",
       "      <td>vintrosa</td>\n",
       "      <td>00:42:09</td>\n",
       "    </tr>\n",
       "    <tr>\n",
       "      <th>2</th>\n",
       "      <td>3</td>\n",
       "      <td>Jenny  Brusling</td>\n",
       "      <td>NaN</td>\n",
       "      <td>Run4fun Fagersta</td>\n",
       "      <td>00:43:20</td>\n",
       "    </tr>\n",
       "    <tr>\n",
       "      <th>3</th>\n",
       "      <td>4</td>\n",
       "      <td>Benita  Hansson</td>\n",
       "      <td>NaN</td>\n",
       "      <td>Ica maxi Örebro1</td>\n",
       "      <td>00:43:39</td>\n",
       "    </tr>\n",
       "    <tr>\n",
       "      <th>4</th>\n",
       "      <td>5</td>\n",
       "      <td>Matilda  Andersson</td>\n",
       "      <td>1987.0</td>\n",
       "      <td>Falun</td>\n",
       "      <td>00:44:18</td>\n",
       "    </tr>\n",
       "  </tbody>\n",
       "</table>\n",
       "</div>"
      ],
      "text/plain": [
       "   Pos                Name    Born              Club      Time\n",
       "0    1   Johanna  Eriksson     NaN        Motala AIF  00:37:57\n",
       "1    2       Elin  Winblad  1987.0          vintrosa  00:42:09\n",
       "2    3     Jenny  Brusling     NaN  Run4fun Fagersta  00:43:20\n",
       "3    4     Benita  Hansson     NaN  Ica maxi Örebro1  00:43:39\n",
       "4    5  Matilda  Andersson  1987.0             Falun  00:44:18"
      ]
     },
     "execution_count": 5,
     "metadata": {},
     "output_type": "execute_result"
    }
   ],
   "source": [
    "# Check the dataframe structure again after the formating the time column\n",
    "df_women_10km_2011.head()"
   ]
  },
  {
   "cell_type": "code",
   "execution_count": 6,
   "metadata": {},
   "outputs": [
    {
     "data": {
      "image/png": "[encoded data removed]",
      "text/plain": [
       "<Figure size 432x288 with 1 Axes>"
      ]
     },
     "metadata": {
      "needs_background": "light"
     },
     "output_type": "display_data"
    }
   ],
   "source": [
    "num_participants = pd.DataFrame({\"df_women_10km_2011\":[len(df_women_10km_2011)],\n",
    "                                 \"df_women_5km_2011\":[len(df_women_5km_2011)],\n",
    "                                 \"df_men_10km_2011\":[len(df_men_10km_2011)],\n",
    "                                 \"df_men_5km_2011\":[len(df_men_5km_2011)],\n",
    "                                 \"df_women_10km_2012\":[len(df_women_10km_2012)],\n",
    "                                 \"df_women_5km_2012\":[len(df_women_5km_2012)],\n",
    "                                 \"df_men_10km_2012\": [len(df_men_10km_2012)],\n",
    "                                 \"df_men_5km_2012\":[len(df_men_5km_2012)]}, index=[1])\n",
    "\n",
    "num_participants.transpose().plot(kind='bar',legend=False,title='Number of participants')\n",
    "plt.show()"
   ]
  },
  {
   "cell_type": "markdown",
   "metadata": {},
   "source": [
    "Data shows that number of participant differs more than 100% between 5km and 10km race for women for respectively year. For men it is around 20% difference. 5km race appears to be much more popular among women. Number of participants increased from previous year for all groups except 10km race for women. "
   ]
  },
  {
   "cell_type": "code",
   "execution_count": 7,
   "metadata": {},
   "outputs": [],
   "source": [
    "# Change values in column \"Time\" to timedelta\n",
    "\n",
    "df_women_10km_2011['Time']=pd.to_timedelta(df_women_10km_2011['Time'])\n",
    "df_women_5km_2011['Time']=pd.to_timedelta(df_women_5km_2011['Time'])\n",
    "df_men_10km_2011['Time']=pd.to_timedelta(df_men_10km_2011['Time'])\n",
    "df_men_5km_2011['Time']=pd.to_timedelta(df_men_5km_2011['Time'])\n",
    "df_women_10km_2012['Time']=pd.to_timedelta(df_women_10km_2012['Time'])\n",
    "df_women_5km_2012['Time']=pd.to_timedelta(df_women_5km_2012['Time'])\n",
    "df_men_10km_2012['Time']=pd.to_timedelta(df_men_10km_2012['Time'])\n",
    "df_men_5km_2012['Time']=pd.to_timedelta(df_men_5km_2012['Time'])"
   ]
  },
  {
   "cell_type": "code",
   "execution_count": 8,
   "metadata": {},
   "outputs": [
    {
     "data": {
      "image/png": "[encoded data removed]",
      "text/plain": [
       "<Figure size 792x432 with 1 Axes>"
      ]
     },
     "metadata": {
      "needs_background": "light"
     },
     "output_type": "display_data"
    }
   ],
   "source": [
    "# Visualise the average and standard deviation for each group \n",
    "\n",
    "data = {'women_10_2012':(df_women_10km_2012['Time'].astype('timedelta64[s]') / 60).mean(),\n",
    "        'men_10_2012':(df_men_10km_2012['Time'].astype('timedelta64[s]') / 60).mean(), \n",
    "        'women_5_2012':(df_women_5km_2012['Time'].astype('timedelta64[s]') / 60).mean(),\n",
    "        'men_5_2012':(df_men_5km_2012['Time'].astype('timedelta64[s]') / 60).mean(),\n",
    "        'women_10_2011':(df_women_10km_2011['Time'].astype('timedelta64[s]') / 60).mean(),\n",
    "        'men_10_2011':(df_men_10km_2011['Time'].astype('timedelta64[s]') / 60).mean(),\n",
    "        'women_5_2011':(df_women_5km_2011['Time'].astype('timedelta64[s]') / 60).mean(),\n",
    "        'men_5_2011':(df_men_5km_2011['Time'].astype('timedelta64[s]') / 60).mean()}\n",
    "\n",
    "std = [(df_women_10km_2012['Time'].astype('timedelta64[s]') / 60).std(),\n",
    "        (df_men_10km_2012['Time'].astype('timedelta64[s]') / 60).std(),\n",
    "        (df_women_5km_2012['Time'].astype('timedelta64[s]') / 60).std(),\n",
    "        (df_men_5km_2012['Time'].astype('timedelta64[s]') / 60).std(),\n",
    "        (df_women_10km_2011['Time'].astype('timedelta64[s]') / 60).std(),\n",
    "        (df_men_10km_2011['Time'].astype('timedelta64[s]') / 60).std(),\n",
    "        (df_women_5km_2011['Time'].astype('timedelta64[s]') / 60).std(),\n",
    "        (df_men_5km_2011['Time'].astype('timedelta64[s]') / 60).std() ]\n",
    "\n",
    "values = list(data.values())\n",
    "groups = list(data.keys())   \n",
    "plt.figure(figsize = (11, 6))\n",
    "plt.bar(groups,values, yerr=std)\n",
    "plt.xticks(rotation=20)\n",
    "plt.ylabel('Average time [min]')\n",
    "plt.title('Average time for each group')\n",
    "plt.show()"
   ]
  },
  {
   "cell_type": "markdown",
   "metadata": {},
   "source": [
    "The standard deviation is larger for the shorter races compared to the longer race in the bar plot for each group. This is can be explained that some participants do not really run or jogg, instead they walk more and do not care about the time."
   ]
  },
  {
   "cell_type": "code",
   "execution_count": 9,
   "metadata": {},
   "outputs": [
    {
     "data": {
      "image/png": "[encoded data removed]",
      "text/plain": [
       "<Figure size 792x432 with 8 Axes>"
      ]
     },
     "metadata": {
      "needs_background": "light"
     },
     "output_type": "display_data"
    }
   ],
   "source": [
    "fig, (ax1, ax2) = plt.subplots(2,4, figsize = (11, 6), sharex = True, sharey = True)\n",
    "ax1[0].bar(df_women_10km_2012.columns,df_women_10km_2012.isnull().sum(), color='red', alpha=0.6)\n",
    "ax1[0].set_title('women 10km 2012')\n",
    "ax1[1].bar(df_men_10km_2012.columns,df_men_10km_2012.isnull().sum())\n",
    "ax1[1].set_title('men 10km 2012')\n",
    "ax1[2].bar(df_women_5km_2012.columns,df_women_5km_2012.isnull().sum(), color='red', alpha=0.6)\n",
    "ax1[2].set_title('women 5km 2012')\n",
    "ax1[3].bar(df_men_5km_2012.columns,df_men_5km_2012.isnull().sum())\n",
    "ax1[3].set_title('men 5km 2012')\n",
    "\n",
    "ax2[0].bar(df_women_10km_2011.columns,df_women_10km_2011.isnull().sum(), color='red', alpha=0.6)\n",
    "\n",
    "ax2[1].bar(df_men_10km_2011.columns,df_men_10km_2011.isnull().sum())\n",
    "\n",
    "ax2[2].bar(df_women_5km_2011.columns,df_men_5km_2011.isnull().sum(), color='red', alpha=0.6)\n",
    "\n",
    "ax2[3].bar(df_men_5km_2011.columns,df_men_5km_2011.isnull().sum())\n",
    "\n",
    "\n",
    "plt.suptitle('Number of missing values')\n",
    "plt.show()"
   ]
  },
  {
   "cell_type": "code",
   "execution_count": 10,
   "metadata": {},
   "outputs": [
    {
     "name": "stdout",
     "output_type": "stream",
     "text": [
      "---- Percentage of nulls in each group ----\n",
      "\n",
      "Percent of nulls for women 5km 2011:  57.78\n",
      "Percent of nulls for men 5km 2011:  53.61\n",
      "Percent of nulls for women 10km 2011:  48.63\n",
      "Percent of nulls for men 10km 2011:  61.83\n",
      "Percent of nulls for women 5km 2012:  56.53\n",
      "Percent of nulls for men 5km 2012:  59.76\n",
      "Percent of nulls for women 10km 2012:  49.47\n",
      "Percent of nulls for men 10km 2012:  58.64\n"
     ]
    }
   ],
   "source": [
    "print('---- Percentage of nulls in each group ----\\n')\n",
    "print('Percent of nulls for women 5km 2011: ',round(df_women_5km_2012['Born'].isnull().sum()/len(df_women_5km_2012['Born'])*100,2))\n",
    "print('Percent of nulls for men 5km 2011: ',round(df_men_5km_2012['Born'].isnull().sum()/len(df_men_5km_2012['Born'])*100,2))\n",
    "print('Percent of nulls for women 10km 2011: ',round(df_women_10km_2012['Born'].isnull().sum()/len(df_women_10km_2012['Born'])*100,2))\n",
    "print('Percent of nulls for men 10km 2011: ',round(df_men_10km_2012['Born'].isnull().sum()/len(df_men_10km_2012['Born'])*100,2))\n",
    "\n",
    "print('Percent of nulls for women 5km 2012: ',round(df_women_5km_2011['Born'].isnull().sum()/len(df_women_5km_2011['Born'])*100,2))\n",
    "print('Percent of nulls for men 5km 2012: ',round(df_men_5km_2011['Born'].isnull().sum()/len(df_men_5km_2011['Born'])*100,2))\n",
    "print('Percent of nulls for women 10km 2012: ',round(df_women_10km_2011['Born'].isnull().sum()/len(df_women_10km_2011['Born'])*100,2))\n",
    "print('Percent of nulls for men 10km 2012: ',round(df_men_10km_2011['Born'].isnull().sum()/len(df_men_10km_2011['Born'])*100,2))"
   ]
  },
  {
   "cell_type": "markdown",
   "metadata": {},
   "source": [
    "Unfortunatley the there are too many missing data in column \"Born\". Otherwise it would be interesting to see how the age influence the performance "
   ]
  },
  {
   "cell_type": "code",
   "execution_count": 11,
   "metadata": {},
   "outputs": [
    {
     "data": {
      "text/html": [
       "<div>\n",
       "<style scoped>\n",
       "    .dataframe tbody tr th:only-of-type {\n",
       "        vertical-align: middle;\n",
       "    }\n",
       "\n",
       "    .dataframe tbody tr th {\n",
       "        vertical-align: top;\n",
       "    }\n",
       "\n",
       "    .dataframe thead th {\n",
       "        text-align: right;\n",
       "    }\n",
       "</style>\n",
       "<table border=\"1\" class=\"dataframe\">\n",
       "  <thead>\n",
       "    <tr style=\"text-align: right;\">\n",
       "      <th></th>\n",
       "      <th>Pos</th>\n",
       "      <th>Name</th>\n",
       "      <th>Born</th>\n",
       "      <th>Club</th>\n",
       "      <th>Time</th>\n",
       "      <th>Year</th>\n",
       "      <th>Sex</th>\n",
       "      <th>Race</th>\n",
       "    </tr>\n",
       "  </thead>\n",
       "  <tbody>\n",
       "    <tr>\n",
       "      <th>0</th>\n",
       "      <td>1</td>\n",
       "      <td>Johanna  Eriksson</td>\n",
       "      <td>NaN</td>\n",
       "      <td>Motala AIF</td>\n",
       "      <td>0 days 00:37:57</td>\n",
       "      <td>2011</td>\n",
       "      <td>Female</td>\n",
       "      <td>10km</td>\n",
       "    </tr>\n",
       "    <tr>\n",
       "      <th>1</th>\n",
       "      <td>2</td>\n",
       "      <td>Elin  Winblad</td>\n",
       "      <td>1987.0</td>\n",
       "      <td>vintrosa</td>\n",
       "      <td>0 days 00:42:09</td>\n",
       "      <td>2011</td>\n",
       "      <td>Female</td>\n",
       "      <td>10km</td>\n",
       "    </tr>\n",
       "    <tr>\n",
       "      <th>2</th>\n",
       "      <td>3</td>\n",
       "      <td>Jenny  Brusling</td>\n",
       "      <td>NaN</td>\n",
       "      <td>Run4fun Fagersta</td>\n",
       "      <td>0 days 00:43:20</td>\n",
       "      <td>2011</td>\n",
       "      <td>Female</td>\n",
       "      <td>10km</td>\n",
       "    </tr>\n",
       "    <tr>\n",
       "      <th>3</th>\n",
       "      <td>4</td>\n",
       "      <td>Benita  Hansson</td>\n",
       "      <td>NaN</td>\n",
       "      <td>Ica maxi Örebro1</td>\n",
       "      <td>0 days 00:43:39</td>\n",
       "      <td>2011</td>\n",
       "      <td>Female</td>\n",
       "      <td>10km</td>\n",
       "    </tr>\n",
       "    <tr>\n",
       "      <th>4</th>\n",
       "      <td>5</td>\n",
       "      <td>Matilda  Andersson</td>\n",
       "      <td>1987.0</td>\n",
       "      <td>Falun</td>\n",
       "      <td>0 days 00:44:18</td>\n",
       "      <td>2011</td>\n",
       "      <td>Female</td>\n",
       "      <td>10km</td>\n",
       "    </tr>\n",
       "  </tbody>\n",
       "</table>\n",
       "</div>"
      ],
      "text/plain": [
       "   Pos                Name    Born              Club            Time  Year  \\\n",
       "0    1   Johanna  Eriksson     NaN        Motala AIF 0 days 00:37:57  2011   \n",
       "1    2       Elin  Winblad  1987.0          vintrosa 0 days 00:42:09  2011   \n",
       "2    3     Jenny  Brusling     NaN  Run4fun Fagersta 0 days 00:43:20  2011   \n",
       "3    4     Benita  Hansson     NaN  Ica maxi Örebro1 0 days 00:43:39  2011   \n",
       "4    5  Matilda  Andersson  1987.0             Falun 0 days 00:44:18  2011   \n",
       "\n",
       "      Sex  Race  \n",
       "0  Female  10km  \n",
       "1  Female  10km  \n",
       "2  Female  10km  \n",
       "3  Female  10km  \n",
       "4  Female  10km  "
      ]
     },
     "execution_count": 11,
     "metadata": {},
     "output_type": "execute_result"
    }
   ],
   "source": [
    "#Add new descriptive columns and then merge all the dataframes together\n",
    "\n",
    "df_women_10km_2011['Year'] = 2011\n",
    "df_men_10km_2011['Year'] = 2011\n",
    "df_women_5km_2011['Year'] = 2011\n",
    "df_men_5km_2011['Year'] = 2011\n",
    "df_women_10km_2012['Year'] = 2012\n",
    "df_men_10km_2012['Year'] = 2012\n",
    "df_women_5km_2012['Year'] = 2012\n",
    "df_men_5km_2012['Year'] = 2012\n",
    "\n",
    "df_women_10km_2011['Sex'] = 'Female'\n",
    "df_men_10km_2011['Sex'] = 'Male'\n",
    "df_women_5km_2011['Sex'] = 'Female'\n",
    "df_men_5km_2011['Sex'] = 'Male'\n",
    "df_women_10km_2012['Sex'] = 'Female'\n",
    "df_men_10km_2012['Sex'] = 'Male'\n",
    "df_women_5km_2012['Sex'] = 'Female'\n",
    "df_men_5km_2012['Sex'] = 'Male'\n",
    "\n",
    "df_women_10km_2011['Race'] = '10km'\n",
    "df_men_10km_2011['Race'] = '10km'\n",
    "df_women_5km_2011['Race'] = '5km'\n",
    "df_men_5km_2011['Race'] = '5km'\n",
    "df_women_10km_2012['Race'] = '10km'\n",
    "df_men_10km_2012['Race'] = '10km'\n",
    "df_women_5km_2012['Race'] = '5km'\n",
    "df_men_5km_2012['Race'] = '5km'\n",
    "\n",
    "df = pd.concat([df_women_10km_2011,\n",
    "              df_men_10km_2011,\n",
    "              df_women_5km_2011,\n",
    "              df_men_5km_2011,\n",
    "              df_women_10km_2012,\n",
    "              df_men_10km_2012,\n",
    "              df_women_5km_2012,\n",
    "              df_men_5km_2012])\n",
    "df.head()"
   ]
  },
  {
   "cell_type": "code",
   "execution_count": 12,
   "metadata": {},
   "outputs": [
    {
     "data": {
      "text/plain": [
       "242"
      ]
     },
     "execution_count": 12,
     "metadata": {},
     "output_type": "execute_result"
    }
   ],
   "source": [
    "# Since there are late registered participants their name will be anonymous. We can plot for each group.\n",
    "df[df['Name']=='Anonym']['Name'].count()\n"
   ]
  },
  {
   "cell_type": "code",
   "execution_count": 13,
   "metadata": {},
   "outputs": [
    {
     "data": {
      "image/png": "[encoded data removed]",
      "text/plain": [
       "<Figure size 1008x720 with 6 Axes>"
      ]
     },
     "metadata": {
      "needs_background": "light"
     },
     "output_type": "display_data"
    }
   ],
   "source": [
    "def box_plot(df_men_10km_2011, df_women_10km_2011, df_men_5km_2011, df_women_5km_2011):\n",
    "    \n",
    "    fig, axs = plt.subplots(3, 2, figsize = (14, 10), sharey=True)\n",
    "    for i in range (3):\n",
    "        for j in range(2):\n",
    "           \n",
    "            axs[i][j].boxplot([df_men_10km_2011['Time'].astype('timedelta64[s]') / 60, \n",
    "            df_women_10km_2011['Time'].astype('timedelta64[s]') / 60,\n",
    "            df_men_5km_2011['Time'].astype('timedelta64[s]') / 60, \n",
    "            df_women_5km_2011['Time'].astype('timedelta64[s]') / 60], \n",
    "            labels=['Men 10km 2011','Women 10km 2011','Men 5km 2011','Women 5km 2011'])\n",
    "            axs[i][j].set_title('2011 races, 10km and 5km')\n",
    "            axs[i][j].set_ylabel('Time [s]')\n",
    "            axs[i][j].set_xticklabels(labels=['Men 10km 2011','Women 10km 2011','Men 5km 2011','Women 5km 2011'], rotation=10)\n",
    "    \n",
    "    plt.subplots_adjust(hspace=0.5)\n",
    "    plt.show()\n",
    "    return None\n",
    "\n",
    "box_plot(df_men_10km_2011, df_women_10km_2011, df_men_5km_2011, df_women_5km_2011)"
   ]
  },
  {
   "cell_type": "markdown",
   "metadata": {},
   "source": [
    "There are some difference in the boxplots between the years and groups visually. We will do a few hypothesis testing to verify our thesis."
   ]
  },
  {
   "cell_type": "markdown",
   "metadata": {},
   "source": [
    "# Hypothesis testing \n",
    "\n",
    "## Scipy-package vs numerical calculation\n",
    "\n",
    "Tests whether two independent samples means  are significantly different.\n",
    "\n",
    "Results from Python pacakge Scipy will be compared with numerical calculation based on handbook formulas. The significant level is set to p=0.05 with 95% confidence level. We will use two approaches to check our hypothesis test, p-value and confidence interval. The results will also be presented graphically to have a visual understanding.  \n",
    "\n",
    "Three hypothesis tests will be performed:\n",
    "1.    women 5km 2011 vs Women 5km 2012\n",
    "2.    Men 5km 2011 vs Men 5km 2012\n",
    "3.    Women 5km 2011 vs Men 5km 2011\n",
    "\n",
    "The null hypothesis and alternative hypothesis is following:\n",
    "$$\n",
    "H_0:µ_{1}= µ_{2}\n",
    "$$\n",
    "$$\n",
    "H_A:µ_{1}\\neq µ_{2}\n",
    "$$\n",
    "\n",
    "Since our samples are large we can conveniently performed as approximate Z-tests. \n",
    "To calculate the p-value, following formulas will be used:\n",
    "\n",
    "$$\n",
    "\\text{Standard Error  (SE)}:\\sqrt{\\frac{s_1^2}{n_1}+\\frac{s_2^2}{n_2}} \n",
    "$$\n",
    "$$\n",
    "\\text{where } s_1^2:\\text{Standard error group 1} \n",
    "\\\\s_2^2:\\text{Standard error group 2}\n",
    "\\\\n_1:\\text{Sample size group 1}\n",
    "\\\\n_2:\\text{Sample size group 2}\n",
    "$$\n",
    "\n",
    "$$\n",
    "\\text{Standard score z: } \\frac{\\bar{X}-µ}{SE}\n",
    "$$\n",
    "$$\n",
    "\\text{where }\\bar{X}: \\text{The observed differences} \n",
    "\\\\µ:\\text{The null hypothesis}\n",
    "$$\n",
    "\n",
    "The p-value will be determined from http://www.z-table.com/ with the calculated standard score z.\n",
    "\n",
    "\n",
    "Confidence interval of 95% is determined by $$µ_{1}-µ_{2}\\pm1.96*SE $$\n",
    "The critical value 1.96 is due to the sample size is considered large. "
   ]
  },
  {
   "cell_type": "markdown",
   "metadata": {},
   "source": [
    "### Hypothesis testing: Women 5km 2011 and Women 5km 2012"
   ]
  },
  {
   "cell_type": "code",
   "execution_count": 14,
   "metadata": {},
   "outputs": [
    {
     "name": "stdout",
     "output_type": "stream",
     "text": [
      "Calculated z: -0.6417214978485959\n"
     ]
    }
   ],
   "source": [
    "import scipy.stats as stats\n",
    "import numpy as np\n",
    "import math\n",
    "\n",
    "data1 = df_women_5km_2011['Time'].astype('timedelta64[s]') / 60\n",
    "data2 = df_women_5km_2012['Time'].astype('timedelta64[s]') / 60\n",
    "\n",
    "z_package, p = stats.ttest_ind(data1, data2,equal_var=False)\n",
    "\n",
    "# Using handbook method\n",
    "# Average for each sample\n",
    "y1 = np.array(df_women_5km_2011['Time'].astype('timedelta64[s]') / 60).mean()\n",
    "y2 = np.array(df_women_5km_2012['Time'].astype('timedelta64[s]') / 60).mean()\n",
    "\n",
    "# Standard deviation for each sample\n",
    "s1 = np.array(df_women_5km_2011['Time'].astype('timedelta64[s]') / 60).std(ddof=1)\n",
    "s2 = np.array(df_women_5km_2012['Time'].astype('timedelta64[s]') / 60).std(ddof=1)\n",
    "\n",
    "# Sample size for each group\n",
    "n1 = len(df_women_5km_2011['Time'])\n",
    "n2 = len(df_women_5km_2012['Time'])\n",
    "\n",
    "#standard error\n",
    "se = math.sqrt(s1**2/n1+s2**2/n2)\n",
    "\n",
    "#The observed differences \n",
    "dy = y1-y2\n",
    "\n",
    "#z-score\n",
    "z_handbook = (dy-0)/se\n",
    "print('Calculated z:',z_handbook)\n"
   ]
  },
  {
   "cell_type": "markdown",
   "metadata": {},
   "source": [
    "With z = -0.642 which gives p=0.2611 from table(http://www.z-table.com/).\n",
    "Since it is a two tailed test we multiply 0.2611 with 2 and get 0.521"
   ]
  },
  {
   "cell_type": "code",
   "execution_count": 15,
   "metadata": {},
   "outputs": [
    {
     "name": "stdout",
     "output_type": "stream",
     "text": [
      "Python package\n",
      "stat=-0.642, p=0.521\n",
      "\n",
      "Numerical calculation\n",
      "z=-0.642, p=0.521\n",
      "Do not reject null hypothesis. \n",
      "There is no differnce between the average time between 2011 and 2012 for women 5km race\n"
     ]
    }
   ],
   "source": [
    "p_handbook = 0.521\n",
    "print('Python package')\n",
    "print('stat=%.3f, p=%.3f' % (z_package, p))\n",
    "print('\\nNumerical calculation')\n",
    "print('z=%.3f, p=%.3f' % (z_handbook, p_handbook))\n",
    "if p > 0.05:\n",
    "    print('Do not reject null hypothesis. \\nThere is no differnce between the average time between 2011 and 2012 for women 5km race')\n",
    "else:\n",
    "    print('Reject null hypothesis.')\n"
   ]
  },
  {
   "cell_type": "code",
   "execution_count": 16,
   "metadata": {},
   "outputs": [
    {
     "data": {
      "image/png": "[encoded data removed]",
      "text/plain": [
       "<Figure size 864x288 with 2 Axes>"
      ]
     },
     "metadata": {
      "needs_background": "light"
     },
     "output_type": "display_data"
    }
   ],
   "source": [
    "# Lets visualise it by plotting a normal distribution \n",
    "# with our limits\n",
    "\n",
    "fig, axs = plt.subplots(1, 2, figsize = (12,4))\n",
    "\n",
    "mu_ci = dy\n",
    "sigma_ci = se\n",
    "height_distr = stats.norm(loc=mu_ci, scale=sigma_ci)\n",
    "x = np.linspace(dy-2, dy+2, 100)\n",
    "y = stats.norm.pdf(x, mu_ci, sigma_ci)\n",
    "cl_bottom = round(dy+1.96*se,2)\n",
    "cl_top = round(dy-1.96*se,2)\n",
    "top, bot = stats.norm.interval(0.95, loc=mu_ci, scale=sigma_ci)\n",
    "axs[0].fill_between(x,y,where =(x>round(cl_top,3)) & (x<=round(cl_bottom,3)) ,color='lightgreen')\n",
    "axs[0].plot(x, height_distr.pdf(x))\n",
    "frame1 = plt.gca()\n",
    "frame1.axes.get_yaxis().set_visible(False)\n",
    "axs[0].axvline(0, alpha=1, color='red',ls='--')\n",
    "axs[0].set_title('Confidence interval region')\n",
    "\n",
    "\n",
    "\n",
    "mu = 0\n",
    "variance = 1\n",
    "sigma = math.sqrt(variance)\n",
    "x = np.linspace(mu - 3*sigma, mu + 3*sigma, 100)\n",
    "y = stats.norm.pdf(x, mu, sigma)\n",
    "axs[1].fill_between(x,y, where =  (x <=-1.96), color ='red', alpha= 0.2)\n",
    "axs[1].fill_between(x,y, where =  (x >= 1.96), color ='red', alpha= 0.2)\n",
    "axs[1].axvline(-0.642, alpha=1, color='red',ls='--')\n",
    "axs[1].plot(x, y)\n",
    "axs[1].set_title('P-value location')\n",
    "plt.suptitle('Hypothesis test for groups Women 5km 2011 vs Women 5km 2012')\n",
    "plt.show()"
   ]
  },
  {
   "cell_type": "markdown",
   "metadata": {},
   "source": [
    "The diffrence mean is inside the confidence intervall (green area) and this complies with standard normal curve were p-value is between the significance level (red area). The two plots complies with the numerical calculation and we fail to reject the null hopothesis, there is no difference in average time between women 5km 2011 and women 5km 2012."
   ]
  },
  {
   "cell_type": "markdown",
   "metadata": {},
   "source": [
    "### Hypothesis testing: Men 5km 2011 and Men 5km 2012"
   ]
  },
  {
   "cell_type": "code",
   "execution_count": 17,
   "metadata": {},
   "outputs": [
    {
     "name": "stdout",
     "output_type": "stream",
     "text": [
      "Calculated z:  -1.73582130466881\n"
     ]
    }
   ],
   "source": [
    "data1 = df_men_5km_2011['Time'].astype('timedelta64[s]') / 60\n",
    "data2 = df_men_5km_2012['Time'].astype('timedelta64[s]') / 60\n",
    "\n",
    "z_package, p = stats.ttest_ind(data1, data2,equal_var=False)\n",
    "\n",
    "# Using handbook method\n",
    "# Average for each sample\n",
    "y1 = np.array(df_men_5km_2011['Time'].astype('timedelta64[s]') / 60).mean()\n",
    "y2 = np.array(df_men_5km_2012['Time'].astype('timedelta64[s]') / 60).mean()\n",
    "\n",
    "# Standard deviation for each sample\n",
    "s1 = np.array(df_men_5km_2011['Time'].astype('timedelta64[s]') / 60).std(ddof=1)\n",
    "s2 = np.array(df_men_5km_2012['Time'].astype('timedelta64[s]') / 60).std(ddof=1)\n",
    "\n",
    "# Sample size for each group\n",
    "n1 = len(df_men_5km_2011['Time'])\n",
    "n2 = len(df_men_5km_2012['Time'])\n",
    "\n",
    "#standard error\n",
    "se = math.sqrt(s1**2/n1+s2**2/n2)\n",
    "\n",
    "#The observed differences \n",
    "dy = y1-y2\n",
    "\n",
    "#z-score\n",
    "z_handbook = (dy-0)/se\n",
    "print('Calculated z: ',z_handbook)"
   ]
  },
  {
   "cell_type": "markdown",
   "metadata": {},
   "source": [
    "With z = -1.736  gives p=0.4135 from table(http://www.z-table.com/).\n",
    "Since it is a two tailed test we multiply 0.4135 with 2 and get 0.827"
   ]
  },
  {
   "cell_type": "code",
   "execution_count": 18,
   "metadata": {},
   "outputs": [
    {
     "name": "stdout",
     "output_type": "stream",
     "text": [
      "Python package\n",
      "stat=-1.736, p=0.083\n",
      "\n",
      "Numerical calculation\n",
      "z=-1.736, p=0.083\n",
      "Do not reject null hypothesis. \n",
      "There is no differnce between the average time between 2011 and 2012 for men 5km race\n"
     ]
    }
   ],
   "source": [
    "p_handbook = 0.0827\n",
    "print('Python package')\n",
    "print('stat=%.3f, p=%.3f' % (z_package, p))\n",
    "print('\\nNumerical calculation')\n",
    "print('z=%.3f, p=%.3f' % (z_handbook, p_handbook))\n",
    "if p > 0.05:\n",
    "    print('Do not reject null hypothesis. \\nThere is no differnce between the average time between 2011 and 2012 for men 5km race')\n",
    "else:\n",
    "    print('Reject null hypothesis.')\n",
    "    \n"
   ]
  },
  {
   "cell_type": "code",
   "execution_count": 19,
   "metadata": {},
   "outputs": [
    {
     "data": {
      "image/png": "[encoded data removed]",
      "text/plain": [
       "<Figure size 864x288 with 2 Axes>"
      ]
     },
     "metadata": {
      "needs_background": "light"
     },
     "output_type": "display_data"
    }
   ],
   "source": [
    "fig, axs = plt.subplots(1, 2, figsize = (12,4))\n",
    "\n",
    "mu_ci = dy\n",
    "sigma_ci = se\n",
    "height_distr = stats.norm(loc=mu_ci, scale=sigma_ci)\n",
    "x = np.linspace(dy-2, dy+2, 100)\n",
    "y = stats.norm.pdf(x, mu_ci, sigma_ci)\n",
    "cl_bottom = round(dy+1.96*se,2)\n",
    "cl_top = round(dy-1.96*se,2)\n",
    "top, bot = stats.norm.interval(0.95, loc=mu_ci, scale=sigma_ci)\n",
    "axs[0].fill_between(x,y,where =(x>round(cl_top,3)) & (x<=round(cl_bottom,3)) ,color='lightgreen')\n",
    "axs[0].plot(x, height_distr.pdf(x));\n",
    "frame1 = plt.gca()\n",
    "frame1.axes.get_yaxis().set_visible(False)\n",
    "axs[0].axvline(0, alpha=1, color='red',ls='--')\n",
    "axs[0].set_title('Confidence interval region')\n",
    "\n",
    "mu = 0\n",
    "variance = 1\n",
    "sigma = math.sqrt(variance)\n",
    "x = np.linspace(mu - 3*sigma, mu + 3*sigma, 100)\n",
    "y = stats.norm.pdf(x, mu, sigma)\n",
    "axs[1].fill_between(x,y, where =  (x <=-1.96), color ='red', alpha= 0.2)\n",
    "axs[1].fill_between(x,y, where =  (x >= 1.96), color ='red', alpha= 0.2)\n",
    "axs[1].axvline(z_handbook, alpha=1, color='red',ls='--')\n",
    "axs[1].set_title('P-value location')\n",
    "axs[1].plot(x, y)\n",
    "plt.suptitle('Hypothesis test for groups Men 5km 2011 vs Men 5km 2012')\n",
    "plt.show()"
   ]
  },
  {
   "cell_type": "markdown",
   "metadata": {},
   "source": [
    "The diffrence mean is inside the confidence intervall (green area) and this complies with standard normal curve were p-value is between the significance level (red area). The two plots complies with the numerical calculation and we fail to reject the null hopothesis, there is no difference in average time between men 5km 2011 and men 5km 2012."
   ]
  },
  {
   "cell_type": "markdown",
   "metadata": {},
   "source": [
    "### Hypothesis testing: Women 5km 2011 and Men 5km 2011"
   ]
  },
  {
   "cell_type": "code",
   "execution_count": 20,
   "metadata": {},
   "outputs": [
    {
     "name": "stdout",
     "output_type": "stream",
     "text": [
      "Calculated z:  -13.010058609798692\n"
     ]
    }
   ],
   "source": [
    "data1 = df_men_5km_2011['Time'].astype('timedelta64[s]') / 60\n",
    "data2 = df_women_5km_2011['Time'].astype('timedelta64[s]') / 60\n",
    "\n",
    "z_package, p = stats.ttest_ind(data1, data2,equal_var=False)\n",
    "\n",
    "# Using handbook method\n",
    "# Average for each sample\n",
    "y1 = np.array(df_men_5km_2011['Time'].astype('timedelta64[s]') / 60).mean()\n",
    "y2 = np.array(df_women_5km_2011['Time'].astype('timedelta64[s]') / 60).mean()\n",
    "\n",
    "# Standard deviation for each sample\n",
    "s1 = np.array(df_men_5km_2011['Time'].astype('timedelta64[s]') / 60).std(ddof=1)\n",
    "s2 = np.array(df_women_5km_2011['Time'].astype('timedelta64[s]') / 60).std(ddof=1)\n",
    "\n",
    "# Sample size for each group\n",
    "n1 = len(df_men_5km_2011['Time'])\n",
    "n2 = len(df_women_5km_2011['Time'])\n",
    "\n",
    "#standard error\n",
    "se = math.sqrt(s1**2/n1+s2**2/n2)\n",
    "\n",
    "#The observed differences \n",
    "dy = y1-y2\n",
    "\n",
    "#z-score\n",
    "z_handbook = (dy-0)/se\n",
    "print('Calculated z: ',z_handbook)"
   ]
  },
  {
   "cell_type": "markdown",
   "metadata": {},
   "source": [
    "With z = -13.010  gives p=0 from table(http://www.z-table.com/).\n",
    "Since it is a two tailed test we multiply 0 with 2 and get 0"
   ]
  },
  {
   "cell_type": "code",
   "execution_count": 21,
   "metadata": {},
   "outputs": [
    {
     "name": "stdout",
     "output_type": "stream",
     "text": [
      "Python package\n",
      "stat=-13.010, p=0.000\n",
      "\n",
      "Numerical calculation\n",
      "z=-13.010, p=0.000\n",
      "Reject null hypothesis \n",
      "There is a differnce between the average time between 2011 and 2012 for men 5km and women 5km race\n"
     ]
    }
   ],
   "source": [
    "p_handbook =0\n",
    "print('Python package')\n",
    "print('stat=%.3f, p=%.3f' % (z_package, p))\n",
    "print('\\nNumerical calculation')\n",
    "print('z=%.3f, p=%.3f' % (z_handbook, p_handbook))\n",
    "if p > 0.05:\n",
    "    print('Do not reject null hypothesis')\n",
    "else:\n",
    "    print('Reject null hypothesis \\nThere is a differnce between the average time between 2011 and 2012 for men 5km and women 5km race')\n",
    "    "
   ]
  },
  {
   "cell_type": "code",
   "execution_count": 22,
   "metadata": {},
   "outputs": [
    {
     "data": {
      "image/png": "[encoded data removed]",
      "text/plain": [
       "<Figure size 864x288 with 2 Axes>"
      ]
     },
     "metadata": {
      "needs_background": "light"
     },
     "output_type": "display_data"
    }
   ],
   "source": [
    "fig, axs = plt.subplots(1, 2, figsize = (12,4))\n",
    "\n",
    "mu_ci = dy\n",
    "sigma_ci = se\n",
    "height_distr = stats.norm(loc=mu_ci, scale=sigma_ci)\n",
    "x = np.linspace(dy-2, dy+2, 100)\n",
    "y = stats.norm.pdf(x, mu_ci, sigma_ci)\n",
    "cl_bottom = round(dy+1.96*se,2)\n",
    "cl_top = round(dy-1.96*se,2)\n",
    "top, bot = stats.norm.interval(0.95, loc=mu_ci, scale=sigma_ci)\n",
    "axs[0].fill_between(x,y,where =(x>round(cl_top,3)) & (x<=round(cl_bottom,3)) ,color='lightgreen')\n",
    "axs[0].plot(x, height_distr.pdf(x));\n",
    "frame1 = plt.gca()\n",
    "frame1.axes.get_yaxis().set_visible(False)\n",
    "axs[0].axvline(0, alpha=1, color='red',ls='--')\n",
    "axs[0].set_title('Confidence interval region')\n",
    "\n",
    "mu = 0\n",
    "variance = 1\n",
    "sigma = math.sqrt(variance)\n",
    "x = np.linspace(mu - 13*sigma, mu + 13*sigma, 100)\n",
    "y = stats.norm.pdf(x, mu, sigma)\n",
    "axs[1].fill_between(x,y, where =  (x <=-1.96), color ='red', alpha= 0.2)\n",
    "axs[1].fill_between(x,y, where =  (x >= 1.96), color ='red', alpha= 0.2)\n",
    "axs[1].axvline(z_package, alpha=1, color='red',ls='--')\n",
    "axs[1].plot(x, y)\n",
    "axs[1].set_title('P-value location')\n",
    "plt.suptitle('Hypothesis test for groups Women 5km 2011 vs Men 5km 2011')\n",
    "plt.show()"
   ]
  },
  {
   "cell_type": "markdown",
   "metadata": {},
   "source": [
    "The diffrence mean is outside the confidence intervall (green area) and this complies with standard normal curve were p-value is below significance level(red area). The two plots complies with the numerical calculation and we can reject the null hopothesis, there is a difference in average time between Women 5km 2011 and Men 5km 2011."
   ]
  },
  {
   "cell_type": "markdown",
   "metadata": {},
   "source": [
    "## Conclusion\n",
    "\n",
    "Exploratory data analysis showed that number of participant differs more than 100% between 5km and 10km race for women for respectively year. For men it is around 20% difference. 5km race appears to be much more popular among women. Number of participants increased from previous year for all groups except 10km race for women. \n",
    "\n",
    "There are bigger variances in the shorter races (5 km) than the longer races (10 km) for both men and women and year. This can be due to many reason but one is that people may not take it so seriously, they may just want to participate and enjoyt the race.\n",
    "\n",
    "Hypothesis tests have been performed by using python package and hand calulations respectively with 95% confidence. In addition to check the hypothesis with p-values, confidence intervalls have also been performed as an alternative way to chekc the hypothesis. \n",
    "\n",
    "We failed to reject the null hypothesis for following test, there is no difference in average speed between the groups:\n",
    "* Men 5km 2011 vs Men 5km 2012\n",
    "* Women 5km 2011 vs Women 5km 2012\n",
    "\n",
    "and we reject the null hypothesis for following test, there is a statistical significance difference in average speed between the groups:\n",
    "\n",
    "* Women 5km 2011 vs Men 5km 2011"
   ]
  },
  {
   "cell_type": "code",
   "execution_count": null,
   "metadata": {},
   "outputs": [],
   "source": []
  }
 ],
 "metadata": {
  "kernelspec": {
   "display_name": "Python 3",
   "language": "python",
   "name": "python3"
  },
  "language_info": {
   "codemirror_mode": {
    "name": "ipython",
    "version": 3
   },
   "file_extension": ".py",
   "mimetype": "text/x-python",
   "name": "python",
   "nbconvert_exporter": "python",
   "pygments_lexer": "ipython3",
   "version": "3.7.4"
  }
 },
 "nbformat": 4,
 "nbformat_minor": 2
}
